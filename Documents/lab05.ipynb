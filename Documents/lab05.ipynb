{
 "cells": [
  {
   "cell_type": "markdown",
   "metadata": {},
   "source": [
    "# Mô Hình Hồi Quy Tuyến Tính\n",
    "## Ứng dụng cho các bài toán phân tích văn bản "
   ]
  },
  {
   "cell_type": "markdown",
   "metadata": {},
   "source": [
    "## Giới thiệu về bài toán phân tích văn bản"
   ]
  },
  {
   "cell_type": "code",
   "execution_count": 1,
   "metadata": {},
   "outputs": [
    {
     "data": {
      "text/html": [
       "\n",
       "        <iframe\n",
       "            width=\"750\"\n",
       "            height=\"570\"\n",
       "            src=\"http://stanford.edu/class/engr108/lectures/documents_slides.pdf\"\n",
       "            frameborder=\"0\"\n",
       "            allowfullscreen\n",
       "        ></iframe>\n",
       "        "
      ],
      "text/plain": [
       "<IPython.lib.display.IFrame at 0x15c9c69cb88>"
      ]
     },
     "execution_count": 1,
     "metadata": {},
     "output_type": "execute_result"
    }
   ],
   "source": [
    "from IPython.display import IFrame\n",
    "IFrame('http://stanford.edu/class/engr108/lectures/documents_slides.pdf', width=750, height=570)"
   ]
  },
  {
   "cell_type": "markdown",
   "metadata": {},
   "source": [
    "## Đồ án 4: Phân lớp văn bản với kĩ thuật bình phương tối tiểu"
   ]
  },
  {
   "cell_type": "markdown",
   "metadata": {},
   "source": [
    "### Nội dung đồ án \n",
    "\n",
    "Cho trước 1 tập dữ liệu review sản phầm từ trang bán hàng [Amazon](https://www.amazon.com/). Mỗi review gồm một hoặc một vài câu (một đoạn) đánh giá của người dùng về sản phẩm đó, đi kèm là số sao được người dùng đánh giá (từ 1 $\\star$ - 5 $\\star$). \n",
    "\n",
    "File dữ liệu được lưu dưới dạng **.json**, bao gồm tập **train.json** dùng để huấn luyện mô hình, và tập **valid.json** dùng để kiểm thử mô hình. Một review ví dụ trong tập **train.json** như sau:\n",
    "\n",
    "```\n",
    "{\n",
    "    \"overall\": 5.0,\n",
    "    \"verified\": true,\n",
    "    \"reviewTime\": \"11 16, 2016\",\n",
    "    \"reviewerID\": \"A19HCG1C5IZ43M\",\n",
    "    \"asin\": \"B0017TI9LK\",\n",
    "    \"style\": {\n",
    "      \"Size:\": \" 8 Pack\",\n",
    "      \"Color:\": \" Assorted\"\n",
    "    },\n",
    "    \"reviewerName\": \"Missteree\",\n",
    "    \"reviewText\": \"These pens never get old. I prefer medium point. LOVE the mulitple colors.\",\n",
    "    \"summary\": \"LOVE the mulitple colors\",\n",
    "    \"unixReviewTime\": 1479254400\n",
    "  },\n",
    "```\n",
    "Trong đó, 2 trường cần được quan tâm là **overall** chứa điểm đánh giá (được gọi là nhãn - label của văn bản đầu vào) và **reviewText** chứa nội dung đánh giá."
   ]
  },
  {
   "cell_type": "markdown",
   "metadata": {},
   "source": [
    "### Yêu cầu bài toán\n",
    "\n",
    "Xây dựng mô hình dự đoán nhãn của văn bản đánh review sản phẩm, với:\n",
    "\n",
    "    a. Xử lý dữ liệu dạng văn bản\n",
    "    \n",
    "    b. Sử dụng mô hình hồi quy tuyến tính dùng bình phương tối tiểu\n",
    "    \n",
    "    c. Sử dụng độ chính xác để đánh giá mô hình"
   ]
  },
  {
   "cell_type": "markdown",
   "metadata": {},
   "source": [
    "#### a. Xử lý dữ liệu dạng văn bản\n",
    "\n",
    " - Đọc file dữ liệu\n",
    "\n",
    " - Tiền xử lý dữ liệu dạng văn bản: chuyển tất cả thành chữ thường, chuyển số thành kí tự \"num\", tách từ, loại bỏ stopwords, stemming, chuyển các từ chưa từng xuất hiện trong quá trình học thành kí tự \"unk\"\n",
    "\n",
    " - Xây dựng bộ ma trận nhúng của văn bản (document embedding): mỗi văn bản là 1 vector histogram (có chiều bằng chiều dài bộ từ điển vocab_size)\n",
    " \n",
    " - Chuẩn hóa nhãn thành dạng số hoặc vector"
   ]
  },
  {
   "cell_type": "markdown",
   "metadata": {},
   "source": [
    "#### b. Sử dụng mô hình hồi quy tuyến tính dùng bình phương tối tiểu\n",
    "\n",
    " - Mô hình đơn giản (M1): dự đoán nhãn dạng nhị phân: \n",
    "    \n",
    "  - (1) review mang ý nghĩa tích cực - nhãn 1: bao gồm các review có trường **overall** **$\\in [4,5]$**\n",
    "        \n",
    "  - (2) review mang ý nghĩa tiêu cực - nhãn -1: những review còn lại\n",
    "  \n",
    "  - Với mô hình này, kết quả của hồi quy tuyến tính là 1 số, thông qua hàm $sign$ để trả ra nhãn phù hợp.\n",
    "        \n",
    " - Mô hình phức tạp hơn (M2): dự doán nhãn theo trường  **overall** từ 1-5. Với mô hình này, kết quả của hồi quy tuyến tính một vector $Y$ 5 chiều, index của chiều đại diện cho từng nhãn, thông qua hàm $softmax$ để trả ar nhãn phù hợp."
   ]
  },
  {
   "cell_type": "markdown",
   "metadata": {},
   "source": [
    "#### c. Sử dụng độ chính xác để đánh giá mô hình\n",
    "\n",
    " - Mô hình được đánh giá bằng độ chính xác (accuracy):\n",
    "    $$ acc = \\frac{\\sum(right)}{\\sum(total)} $$"
   ]
  },
  {
   "cell_type": "markdown",
   "metadata": {},
   "source": [
    "### Quy định bài nộp\n",
    "\n",
    " * Download tập [dataset](https://drive.google.com/drive/folders/1UJbP-EWSRlwmOQcPnOCBifMpyLbnk0qQ?usp=sharing/)\n",
    "\n",
    " * Thực hiện bài làm trên mẫu đính kèm [180000.ipynb](https://drive.google.com/file/d/1u1iEpk7NEfKGNfkbtnDrOdXg5iAD3emZ/view?usp=sharing)\n",
    " \n",
    " * Nộp file dưới dạng **MSSV.ipynb**\n",
    "\n",
    " * Sinh viên sẽ được chấm trên tập dữ liệu **test.json** không được công bố\n",
    " \n",
    " \n",
    "##### Phần code sẽ được chấm tự động bằng cách convert file **.ipynb** thành dạng **.py**. \n",
    "\n",
    "Sau khi giáo viên convert code về file python, input và output để chấm như sau:\n",
    "\n",
    " * Input: gồm 3 thành phần: train_set_path, valid_set_path, random_number (random number dùng để check việc xử lý dữ liệu)\n",
    " \n",
    " * Output: gồm 2 dòng, dòng 1 in câu thứ random_number của tập valid (từ valid_set_path), dòng 2 in mô hình chọn code và độ chính xác của nó. Xem [hình](https://drive.google.com/file/d/1TAKMvAMr7FnkOVAttXevyx366ev6F99S/view?usp=sharing)\n",
    " \n",
    " Ngoài input và output quy định, bài code **không được** có thêm bất kì input và output nào khác"
   ]
  },
  {
   "cell_type": "markdown",
   "metadata": {},
   "source": [
    "### Quy định chấm bài  \n",
    "\n",
    "Điểm được chấm thành 3 thang như sau:\n",
    "\n",
    "    * Đọc dữ liệu và tiền xử lý dữ liệu đúng: 5 điểm\n",
    "    \n",
    "    * Code đúng mô hình đơn giản M1: 8 điểm\n",
    "    \n",
    "    * Code đúng mô hình M2: 10 điểm\n",
    "\n",
    "Những trường hợp sau đây sẽ bị 0 điểm toàn bộ đồ án:\n",
    "\n",
    "    * Nộp sai quy định\n",
    "    \n",
    "    * Không có phần báo cáo trong bài\n",
    "    \n",
    "    * Báo cáo gian lận (không code phần đó nhưng vẫn báo cáo)\n",
    "    \n",
    "    * Thực thi mã nguồn báo lỗi\n",
    "\n",
    "<font style=\"color:red\">**LƯU Ý: SAO CHÉP BÀI LÀM CỦA NHAU SẼ BỊ 0 ĐIỂM TOÀN BỘ PHẦN THỰC HÀNH**</font>\n",
    "\n"
   ]
  }
 ],
 "metadata": {
  "kernelspec": {
   "display_name": "Python 3",
   "language": "python",
   "name": "python3"
  },
  "language_info": {
   "codemirror_mode": {
    "name": "ipython",
    "version": 3
   },
   "file_extension": ".py",
   "mimetype": "text/x-python",
   "name": "python",
   "nbconvert_exporter": "python",
   "pygments_lexer": "ipython3",
   "version": "3.7.6"
  },
  "toc-autonumbering": false
 },
 "nbformat": 4,
 "nbformat_minor": 4
}
